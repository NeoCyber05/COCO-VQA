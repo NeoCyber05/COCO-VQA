{
 "cells": [
  {
   "metadata": {},
   "cell_type": "markdown",
   "source": "# Load Dataset",
   "id": "c827a83710a8b13"
  },
  {
   "cell_type": "code",
   "id": "initial_id",
   "metadata": {
    "collapsed": true,
    "ExecuteTime": {
     "end_time": "2025-05-18T14:22:56.114342Z",
     "start_time": "2025-05-18T14:22:56.104686Z"
    }
   },
   "source": [
    "import os\n",
    "\n",
    "from spacy.symbols import nn\n",
    "from sympy.printing.pytorch import torch"
   ],
   "outputs": [],
   "execution_count": 2
  },
  {
   "metadata": {
    "ExecuteTime": {
     "end_time": "2025-05-18T14:52:41.178043Z",
     "start_time": "2025-05-18T14:52:41.170797Z"
    }
   },
   "cell_type": "code",
   "source": [
    "#COCO_val2014_000000393225.jpg#0\tIs this a creamy soup ? no\n",
    "def load_data(data_path):\n",
    "    data = []\n",
    "    path = data_path\n",
    "\n",
    "    with open(path, \"r\") as f:\n",
    "        lines = f.readlines()\n",
    "\n",
    "        for line in lines:\n",
    "            tmp = line.split(\"\\t\")\n",
    "            QA = tmp[1].rsplit(\"?\",1)\n",
    "            answer = QA[1].strip()\n",
    "\n",
    "            data_sample = {\n",
    "                'question': QA[0] + '?',\n",
    "                'image_path': tmp[0][:-2], # Bỏ #0\n",
    "                'answer': answer\n",
    "            }\n",
    "\n",
    "            data.append(data_sample)\n",
    "\n",
    "    return data"
   ],
   "id": "c629a4d762ae0671",
   "outputs": [],
   "execution_count": 65
  },
  {
   "metadata": {
    "ExecuteTime": {
     "end_time": "2025-05-18T14:52:42.890178Z",
     "start_time": "2025-05-18T14:52:42.865180Z"
    }
   },
   "cell_type": "code",
   "source": [
    "train_path = os.path.join(\"..\", \"data_coco\", \"vaq2.0.TrainImages.txt\")\n",
    "val_path = os.path.join(\"..\", \"data_coco\", \"vaq2.0.DevImages.txt\")\n",
    "test_path = os.path.join(\"..\", \"data_coco\", \"vaq2.0.TestImages.txt\")\n",
    "\n",
    "train_data=load_data(train_path)\n",
    "val_data=load_data(val_path)\n",
    "test_data=load_data(test_path)\n"
   ],
   "id": "9463d006449c8dd9",
   "outputs": [],
   "execution_count": 66
  },
  {
   "metadata": {
    "ExecuteTime": {
     "end_time": "2025-05-18T14:43:48.853450Z",
     "start_time": "2025-05-18T14:43:48.844178Z"
    }
   },
   "cell_type": "code",
   "source": "print(train_data[0])",
   "id": "a86001907c9d80d6",
   "outputs": [
    {
     "name": "stdout",
     "output_type": "stream",
     "text": [
      "{'question': 'Is this a creamy soup ?', 'image_path': 'COCO_val2014_000000393225.jpg', 'answer': 'no'}\n"
     ]
    }
   ],
   "execution_count": 55
  },
  {
   "metadata": {},
   "cell_type": "markdown",
   "source": "# Data Process",
   "id": "db35842602f54415"
  },
  {
   "metadata": {
    "ExecuteTime": {
     "end_time": "2025-05-18T14:52:44.705148Z",
     "start_time": "2025-05-18T14:52:44.693960Z"
    }
   },
   "cell_type": "code",
   "source": [
    "import spacy\n",
    "from torchtext.vocab import build_vocab_from_iterator\n"
   ],
   "id": "892e7e958898f266",
   "outputs": [],
   "execution_count": 67
  },
  {
   "metadata": {
    "ExecuteTime": {
     "end_time": "2025-05-18T14:52:46.846851Z",
     "start_time": "2025-05-18T14:52:46.259095Z"
    }
   },
   "cell_type": "code",
   "source": [
    "nlp = spacy.load(\"en_core_web_sm\")\n",
    "\n",
    "\n",
    "def get_token(data_iters):\n",
    "    for sample in data_iters:\n",
    "        question = sample['question']\n",
    "        yield [token.text for token in nlp.tokenizer(question)]\n",
    "\n",
    "\n",
    "vocab = build_vocab_from_iterator(\n",
    "    get_token(train_data),\n",
    "    min_freq=2,\n",
    "    specials=[\"<unk>\", \"sos\", \"eos\", \"<pad>\"],\n",
    "    special_first=True\n",
    ")\n",
    "vocab.set_default_index(vocab[\"<unk>\"])#Nếu một token.text không có trong vocab, nó sẽ được gán ID của <unk>"
   ],
   "id": "5a80d245d79b662c",
   "outputs": [],
   "execution_count": 68
  },
  {
   "metadata": {
    "ExecuteTime": {
     "end_time": "2025-05-18T14:52:48.233473Z",
     "start_time": "2025-05-18T14:52:48.215664Z"
    }
   },
   "cell_type": "code",
   "source": [
    "#Độ dài cố định để xử lý theo batch\n",
    "def tokenize(question_text, max_seq_len= 20):\n",
    "    spacy_tokens = nlp.tokenizer(question_text)\n",
    "    #  Chuyển các token thành ID số sử dụng vocab\n",
    "    # Chúng ta cần lấy .text của mỗi  Token để tra cứu trong vocab\n",
    "    numerical_sequence = [vocab[token.text] for token in spacy_tokens]\n",
    "    current_len = len(numerical_sequence)\n",
    "    if current_len < max_seq_len:\n",
    "        padding_needed = max_seq_len - current_len\n",
    "        numerical_sequence += [vocab['<pad>']] * padding_needed\n",
    "    elif current_len > max_seq_len:\n",
    "        numerical_sequence = numerical_sequence[:max_seq_len]\n",
    "    return numerical_sequence"
   ],
   "id": "f9eb1d8706463891",
   "outputs": [],
   "execution_count": 69
  },
  {
   "metadata": {
    "ExecuteTime": {
     "end_time": "2025-05-18T14:52:50.312162Z",
     "start_time": "2025-05-18T14:52:50.301583Z"
    }
   },
   "cell_type": "code",
   "source": [
    "example = \"Hello World!\"\n",
    "print(tokenize(example))\n",
    "print(len(vocab))"
   ],
   "id": "54631242d58f928e",
   "outputs": [
    {
     "name": "stdout",
     "output_type": "stream",
     "text": [
      "[0, 0, 0, 3, 3, 3, 3, 3, 3, 3, 3, 3, 3, 3, 3, 3, 3, 3, 3, 3]\n",
      "1678\n"
     ]
    }
   ],
   "execution_count": 70
  },
  {
   "metadata": {
    "ExecuteTime": {
     "end_time": "2025-05-18T14:52:51.434437Z",
     "start_time": "2025-05-18T14:52:51.426441Z"
    }
   },
   "cell_type": "code",
   "source": [
    "classes = set([sample['answer'] for sample in train_data])\n",
    "classes_to_idx = {\n",
    "    cls_name: idx for idx, cls_name in enumerate(classes)\n",
    "}\n",
    "idx_to_classes = {\n",
    "    idx: cls_name for idx, cls_name in enumerate(classes)\n",
    "}\n",
    "print(idx_to_classes)"
   ],
   "id": "e0f8672905087fe",
   "outputs": [
    {
     "name": "stdout",
     "output_type": "stream",
     "text": [
      "{0: 'no', 1: 'yes'}\n"
     ]
    }
   ],
   "execution_count": 71
  },
  {
   "metadata": {
    "ExecuteTime": {
     "end_time": "2025-05-18T14:52:54.271577Z",
     "start_time": "2025-05-18T14:52:54.263185Z"
    }
   },
   "cell_type": "code",
   "source": "print(classes)",
   "id": "a26b2b1e769bb261",
   "outputs": [
    {
     "name": "stdout",
     "output_type": "stream",
     "text": [
      "{'no', 'yes'}\n"
     ]
    }
   ],
   "execution_count": 72
  },
  {
   "metadata": {},
   "cell_type": "markdown",
   "source": "# Pytorch Dataset",
   "id": "8fb8c82438f7b23a"
  },
  {
   "metadata": {
    "ExecuteTime": {
     "end_time": "2025-05-18T14:53:09.383866Z",
     "start_time": "2025-05-18T14:53:09.373001Z"
    }
   },
   "cell_type": "code",
   "source": [
    "from torch.utils.data import Dataset, DataLoader\n",
    "from PIL import Image\n",
    "import torchvision.transforms as transforms"
   ],
   "id": "e538e7629086c6ca",
   "outputs": [],
   "execution_count": 73
  },
  {
   "metadata": {
    "ExecuteTime": {
     "end_time": "2025-05-18T16:26:35.900635Z",
     "start_time": "2025-05-18T16:26:35.884944Z"
    }
   },
   "cell_type": "code",
   "source": [
    "class VQADataset(Dataset):\n",
    "    def __init__(\n",
    "        self,\n",
    "        data,\n",
    "        classes_to_idx,\n",
    "        max_seq_len=20,       # Độ dài tối đa của chuỗi câu hỏi (mặc định là 20)\n",
    "        transform=None,\n",
    "        root_dir=\"../data_coco/val2014-resised/\"\n",
    "    ):\n",
    "        self.transform = transform\n",
    "        self.data = data\n",
    "        self.max_seq_len = max_seq_len\n",
    "        self.root_dir = root_dir\n",
    "        self.classes_to_idx = classes_to_idx\n",
    "    def __len__(self):\n",
    "        return len(self.data)\n",
    "    def __getitem__(self, idx):\n",
    "        img_path = os.path.join(self.root_dir, self.data[idx]['image_path'])\n",
    "        img = Image.open(img_path).convert(\"RGB\")\n",
    "        if self.transform:\n",
    "            img = self.transform(img)\n",
    "        question = self.data[idx]['question']\n",
    "        question = tokenize(question, self.max_seq_len)\n",
    "        question = torch.tensor(question, dtype = torch.long)\n",
    "\n",
    "        label = self.data[idx]['answer']\n",
    "        label = self.classes_to_idx[label]\n",
    "        label = torch.tensor(label, dtype = torch.long)\n",
    "        return img , question, label\n"
   ],
   "id": "8c35b73b1f11cf49",
   "outputs": [],
   "execution_count": 237
  },
  {
   "metadata": {},
   "cell_type": "markdown",
   "source": "# DataLoader",
   "id": "796de8a42ed8a101"
  },
  {
   "metadata": {
    "ExecuteTime": {
     "end_time": "2025-05-18T16:24:01.555091Z",
     "start_time": "2025-05-18T16:24:01.536084Z"
    }
   },
   "cell_type": "code",
   "source": [
    "transform = transforms.Compose([\n",
    "    transforms.Resize((224, 224)),\n",
    "    transforms.ToTensor(),\n",
    "    transforms.Normalize(mean=[0.485, 0.456, 0.406], std=[0.229, 0.224, 0.225])\n",
    "])\n"
   ],
   "id": "28cd51c0e3fa22c",
   "outputs": [],
   "execution_count": 216
  },
  {
   "metadata": {
    "ExecuteTime": {
     "end_time": "2025-05-18T16:26:38.767974Z",
     "start_time": "2025-05-18T16:26:38.754366Z"
    }
   },
   "cell_type": "code",
   "source": [
    "train_dataset = VQADataset(train_data, classes_to_idx, transform=transform)\n",
    "val_dataset = VQADataset(val_data, classes_to_idx, transform=transform)\n",
    "test_dataset = VQADataset(test_data, classes_to_idx, transform=transform)"
   ],
   "id": "8c8659fc4d00f43",
   "outputs": [],
   "execution_count": 238
  },
  {
   "metadata": {
    "ExecuteTime": {
     "end_time": "2025-05-18T16:26:39.944805Z",
     "start_time": "2025-05-18T16:26:39.929015Z"
    }
   },
   "cell_type": "code",
   "source": [
    "train_batch_size = 128\n",
    "test_batch_size = 32\n",
    "\n",
    "train_loader = DataLoader(train_dataset, batch_size= train_batch_size, shuffle = True)\n",
    "val_loader = DataLoader(val_dataset, batch_size= test_batch_size, shuffle = False)\n",
    "test_loader = DataLoader(test_dataset, batch_size= test_batch_size, shuffle = False)"
   ],
   "id": "e907ab49ba935211",
   "outputs": [],
   "execution_count": 239
  },
  {
   "metadata": {},
   "cell_type": "markdown",
   "source": "# Model",
   "id": "8cb73c51b1f7b4b1"
  },
  {
   "metadata": {
    "ExecuteTime": {
     "end_time": "2025-05-18T16:24:03.792693Z",
     "start_time": "2025-05-18T16:24:03.776946Z"
    }
   },
   "cell_type": "code",
   "source": [
    "import torch\n",
    "import torch.nn as nn\n",
    "import timm\n"
   ],
   "id": "a3f4fd3d953d3b76",
   "outputs": [],
   "execution_count": 219
  },
  {
   "metadata": {
    "ExecuteTime": {
     "end_time": "2025-05-18T16:37:30.585766Z",
     "start_time": "2025-05-18T16:37:30.530612Z"
    }
   },
   "cell_type": "code",
   "source": [
    "class VQAModel(nn.Module):\n",
    "    def __init__(\n",
    "            self,\n",
    "            n_classes,\n",
    "            embedding_dim = 64,\n",
    "            n_layer = 2,\n",
    "            hidden_size = 256,\n",
    "            dropout = 0.2,\n",
    "    ):\n",
    "            super(VQAModel, self).__init__()\n",
    "            self.image_encoder = timm.create_model(\n",
    "                'resnet50',\n",
    "                pretrained = True,\n",
    "                num_classes = hidden_size,\n",
    "            )\n",
    "            self.image_fc = nn.Linear(hidden_size, 1024)\n",
    "\n",
    "            self.embedding = nn.Embedding(len(vocab), embedding_dim)\n",
    "            self.text_encoder = nn.LSTM(\n",
    "                embedding_dim,\n",
    "                hidden_size,\n",
    "                num_layers = n_layer,\n",
    "                bidirectional = True,\n",
    "                batch_first = True,\n",
    "            )\n",
    "            self.text_fc = nn.Linear(hidden_size*2, 1024 )\n",
    "\n",
    "            self.fc1 = nn.Linear(1024, 1000)\n",
    "            self.relu = nn.ReLU()\n",
    "            self.dropout = nn.Dropout(dropout)\n",
    "            self.fc2 = nn.Linear(1000, n_classes)\n",
    "    def forward(self, image, text):\n",
    "        img_features = self.image_encoder(image)\n",
    "        img_features = self.image_fc(img_features)\n",
    "\n",
    "        text_emb = self.embedding(text)\n",
    "        text_features,_ = self.text_encoder(text_emb)\n",
    "\n",
    "        #Take the last hidden state from the sequence\n",
    "        text_features = text_features[:, -1, :]  #[batch_size, hidden_size*2]\n",
    "        text_features = self.text_fc(text_features)\n",
    "\n",
    "        x = img_features * text_features\n",
    "        x= self.fc1(x)\n",
    "        x= self.relu(x)\n",
    "        x= self.dropout(x)\n",
    "        x= self.fc2(x)\n",
    "\n",
    "        return x\n"
   ],
   "id": "413757b744a3433",
   "outputs": [],
   "execution_count": 257
  },
  {
   "metadata": {
    "ExecuteTime": {
     "end_time": "2025-05-18T16:37:46.910537Z",
     "start_time": "2025-05-18T16:37:46.273411Z"
    }
   },
   "cell_type": "code",
   "source": [
    "n_classes = len(classes)\n",
    "img_model_name = \"resnet50\"\n",
    "hidden_size = 256\n",
    "n_layer = 2\n",
    "embedding_dim = 64\n",
    "dropout = 0.2\n",
    "device = \"cuda\" if torch.cuda.is_available() else \"cpu\"\n",
    "\n",
    "model=VQAModel(\n",
    "    n_classes=n_classes,\n",
    "    embedding_dim=embedding_dim,\n",
    "    n_layer=n_layer,\n",
    "    hidden_size=hidden_size,\n",
    "    dropout=dropout\n",
    ").to(device)\n"
   ],
   "id": "be049ef45e9721cf",
   "outputs": [
    {
     "ename": "RuntimeError",
     "evalue": "CUDA error: out of memory\nCUDA kernel errors might be asynchronously reported at some other API call, so the stacktrace below might be incorrect.\nFor debugging consider passing CUDA_LAUNCH_BLOCKING=1.\nCompile with `TORCH_USE_CUDA_DSA` to enable device-side assertions.\n",
     "output_type": "error",
     "traceback": [
      "\u001B[1;31m---------------------------------------------------------------------------\u001B[0m",
      "\u001B[1;31mRuntimeError\u001B[0m                              Traceback (most recent call last)",
      "Cell \u001B[1;32mIn[259], line 9\u001B[0m\n\u001B[0;32m      6\u001B[0m dropout \u001B[38;5;241m=\u001B[39m \u001B[38;5;241m0.2\u001B[39m\n\u001B[0;32m      7\u001B[0m device \u001B[38;5;241m=\u001B[39m \u001B[38;5;124m\"\u001B[39m\u001B[38;5;124mcuda\u001B[39m\u001B[38;5;124m\"\u001B[39m \u001B[38;5;28;01mif\u001B[39;00m torch\u001B[38;5;241m.\u001B[39mcuda\u001B[38;5;241m.\u001B[39mis_available() \u001B[38;5;28;01melse\u001B[39;00m \u001B[38;5;124m\"\u001B[39m\u001B[38;5;124mcpu\u001B[39m\u001B[38;5;124m\"\u001B[39m\n\u001B[1;32m----> 9\u001B[0m model\u001B[38;5;241m=\u001B[39m\u001B[43mVQAModel\u001B[49m\u001B[43m(\u001B[49m\n\u001B[0;32m     10\u001B[0m \u001B[43m    \u001B[49m\u001B[43mn_classes\u001B[49m\u001B[38;5;241;43m=\u001B[39;49m\u001B[43mn_classes\u001B[49m\u001B[43m,\u001B[49m\n\u001B[0;32m     11\u001B[0m \u001B[43m    \u001B[49m\u001B[43membedding_dim\u001B[49m\u001B[38;5;241;43m=\u001B[39;49m\u001B[43membedding_dim\u001B[49m\u001B[43m,\u001B[49m\n\u001B[0;32m     12\u001B[0m \u001B[43m    \u001B[49m\u001B[43mn_layer\u001B[49m\u001B[38;5;241;43m=\u001B[39;49m\u001B[43mn_layer\u001B[49m\u001B[43m,\u001B[49m\n\u001B[0;32m     13\u001B[0m \u001B[43m    \u001B[49m\u001B[43mhidden_size\u001B[49m\u001B[38;5;241;43m=\u001B[39;49m\u001B[43mhidden_size\u001B[49m\u001B[43m,\u001B[49m\n\u001B[0;32m     14\u001B[0m \u001B[43m    \u001B[49m\u001B[43mdropout\u001B[49m\u001B[38;5;241;43m=\u001B[39;49m\u001B[43mdropout\u001B[49m\n\u001B[0;32m     15\u001B[0m \u001B[43m)\u001B[49m\u001B[38;5;241;43m.\u001B[39;49m\u001B[43mto\u001B[49m\u001B[43m(\u001B[49m\u001B[43mdevice\u001B[49m\u001B[43m)\u001B[49m\n",
      "File \u001B[1;32mD:\\AI\\Visual_Questioning_Answer\\.venv\\lib\\site-packages\\torch\\nn\\modules\\module.py:1145\u001B[0m, in \u001B[0;36mModule.to\u001B[1;34m(self, *args, **kwargs)\u001B[0m\n\u001B[0;32m   1141\u001B[0m         \u001B[38;5;28;01mreturn\u001B[39;00m t\u001B[38;5;241m.\u001B[39mto(device, dtype \u001B[38;5;28;01mif\u001B[39;00m t\u001B[38;5;241m.\u001B[39mis_floating_point() \u001B[38;5;129;01mor\u001B[39;00m t\u001B[38;5;241m.\u001B[39mis_complex() \u001B[38;5;28;01melse\u001B[39;00m \u001B[38;5;28;01mNone\u001B[39;00m,\n\u001B[0;32m   1142\u001B[0m                     non_blocking, memory_format\u001B[38;5;241m=\u001B[39mconvert_to_format)\n\u001B[0;32m   1143\u001B[0m     \u001B[38;5;28;01mreturn\u001B[39;00m t\u001B[38;5;241m.\u001B[39mto(device, dtype \u001B[38;5;28;01mif\u001B[39;00m t\u001B[38;5;241m.\u001B[39mis_floating_point() \u001B[38;5;129;01mor\u001B[39;00m t\u001B[38;5;241m.\u001B[39mis_complex() \u001B[38;5;28;01melse\u001B[39;00m \u001B[38;5;28;01mNone\u001B[39;00m, non_blocking)\n\u001B[1;32m-> 1145\u001B[0m \u001B[38;5;28;01mreturn\u001B[39;00m \u001B[38;5;28;43mself\u001B[39;49m\u001B[38;5;241;43m.\u001B[39;49m\u001B[43m_apply\u001B[49m\u001B[43m(\u001B[49m\u001B[43mconvert\u001B[49m\u001B[43m)\u001B[49m\n",
      "File \u001B[1;32mD:\\AI\\Visual_Questioning_Answer\\.venv\\lib\\site-packages\\torch\\nn\\modules\\module.py:797\u001B[0m, in \u001B[0;36mModule._apply\u001B[1;34m(self, fn)\u001B[0m\n\u001B[0;32m    795\u001B[0m \u001B[38;5;28;01mdef\u001B[39;00m\u001B[38;5;250m \u001B[39m\u001B[38;5;21m_apply\u001B[39m(\u001B[38;5;28mself\u001B[39m, fn):\n\u001B[0;32m    796\u001B[0m     \u001B[38;5;28;01mfor\u001B[39;00m module \u001B[38;5;129;01min\u001B[39;00m \u001B[38;5;28mself\u001B[39m\u001B[38;5;241m.\u001B[39mchildren():\n\u001B[1;32m--> 797\u001B[0m         \u001B[43mmodule\u001B[49m\u001B[38;5;241;43m.\u001B[39;49m\u001B[43m_apply\u001B[49m\u001B[43m(\u001B[49m\u001B[43mfn\u001B[49m\u001B[43m)\u001B[49m\n\u001B[0;32m    799\u001B[0m     \u001B[38;5;28;01mdef\u001B[39;00m\u001B[38;5;250m \u001B[39m\u001B[38;5;21mcompute_should_use_set_data\u001B[39m(tensor, tensor_applied):\n\u001B[0;32m    800\u001B[0m         \u001B[38;5;28;01mif\u001B[39;00m torch\u001B[38;5;241m.\u001B[39m_has_compatible_shallow_copy_type(tensor, tensor_applied):\n\u001B[0;32m    801\u001B[0m             \u001B[38;5;66;03m# If the new tensor has compatible tensor type as the existing tensor,\u001B[39;00m\n\u001B[0;32m    802\u001B[0m             \u001B[38;5;66;03m# the current behavior is to change the tensor in-place using `.data =`,\u001B[39;00m\n\u001B[1;32m   (...)\u001B[0m\n\u001B[0;32m    807\u001B[0m             \u001B[38;5;66;03m# global flag to let the user control whether they want the future\u001B[39;00m\n\u001B[0;32m    808\u001B[0m             \u001B[38;5;66;03m# behavior of overwriting the existing tensor or not.\u001B[39;00m\n",
      "File \u001B[1;32mD:\\AI\\Visual_Questioning_Answer\\.venv\\lib\\site-packages\\torch\\nn\\modules\\module.py:797\u001B[0m, in \u001B[0;36mModule._apply\u001B[1;34m(self, fn)\u001B[0m\n\u001B[0;32m    795\u001B[0m \u001B[38;5;28;01mdef\u001B[39;00m\u001B[38;5;250m \u001B[39m\u001B[38;5;21m_apply\u001B[39m(\u001B[38;5;28mself\u001B[39m, fn):\n\u001B[0;32m    796\u001B[0m     \u001B[38;5;28;01mfor\u001B[39;00m module \u001B[38;5;129;01min\u001B[39;00m \u001B[38;5;28mself\u001B[39m\u001B[38;5;241m.\u001B[39mchildren():\n\u001B[1;32m--> 797\u001B[0m         \u001B[43mmodule\u001B[49m\u001B[38;5;241;43m.\u001B[39;49m\u001B[43m_apply\u001B[49m\u001B[43m(\u001B[49m\u001B[43mfn\u001B[49m\u001B[43m)\u001B[49m\n\u001B[0;32m    799\u001B[0m     \u001B[38;5;28;01mdef\u001B[39;00m\u001B[38;5;250m \u001B[39m\u001B[38;5;21mcompute_should_use_set_data\u001B[39m(tensor, tensor_applied):\n\u001B[0;32m    800\u001B[0m         \u001B[38;5;28;01mif\u001B[39;00m torch\u001B[38;5;241m.\u001B[39m_has_compatible_shallow_copy_type(tensor, tensor_applied):\n\u001B[0;32m    801\u001B[0m             \u001B[38;5;66;03m# If the new tensor has compatible tensor type as the existing tensor,\u001B[39;00m\n\u001B[0;32m    802\u001B[0m             \u001B[38;5;66;03m# the current behavior is to change the tensor in-place using `.data =`,\u001B[39;00m\n\u001B[1;32m   (...)\u001B[0m\n\u001B[0;32m    807\u001B[0m             \u001B[38;5;66;03m# global flag to let the user control whether they want the future\u001B[39;00m\n\u001B[0;32m    808\u001B[0m             \u001B[38;5;66;03m# behavior of overwriting the existing tensor or not.\u001B[39;00m\n",
      "File \u001B[1;32mD:\\AI\\Visual_Questioning_Answer\\.venv\\lib\\site-packages\\torch\\nn\\modules\\module.py:820\u001B[0m, in \u001B[0;36mModule._apply\u001B[1;34m(self, fn)\u001B[0m\n\u001B[0;32m    816\u001B[0m \u001B[38;5;66;03m# Tensors stored in modules are graph leaves, and we don't want to\u001B[39;00m\n\u001B[0;32m    817\u001B[0m \u001B[38;5;66;03m# track autograd history of `param_applied`, so we have to use\u001B[39;00m\n\u001B[0;32m    818\u001B[0m \u001B[38;5;66;03m# `with torch.no_grad():`\u001B[39;00m\n\u001B[0;32m    819\u001B[0m \u001B[38;5;28;01mwith\u001B[39;00m torch\u001B[38;5;241m.\u001B[39mno_grad():\n\u001B[1;32m--> 820\u001B[0m     param_applied \u001B[38;5;241m=\u001B[39m \u001B[43mfn\u001B[49m\u001B[43m(\u001B[49m\u001B[43mparam\u001B[49m\u001B[43m)\u001B[49m\n\u001B[0;32m    821\u001B[0m should_use_set_data \u001B[38;5;241m=\u001B[39m compute_should_use_set_data(param, param_applied)\n\u001B[0;32m    822\u001B[0m \u001B[38;5;28;01mif\u001B[39;00m should_use_set_data:\n",
      "File \u001B[1;32mD:\\AI\\Visual_Questioning_Answer\\.venv\\lib\\site-packages\\torch\\nn\\modules\\module.py:1143\u001B[0m, in \u001B[0;36mModule.to.<locals>.convert\u001B[1;34m(t)\u001B[0m\n\u001B[0;32m   1140\u001B[0m \u001B[38;5;28;01mif\u001B[39;00m convert_to_format \u001B[38;5;129;01mis\u001B[39;00m \u001B[38;5;129;01mnot\u001B[39;00m \u001B[38;5;28;01mNone\u001B[39;00m \u001B[38;5;129;01mand\u001B[39;00m t\u001B[38;5;241m.\u001B[39mdim() \u001B[38;5;129;01min\u001B[39;00m (\u001B[38;5;241m4\u001B[39m, \u001B[38;5;241m5\u001B[39m):\n\u001B[0;32m   1141\u001B[0m     \u001B[38;5;28;01mreturn\u001B[39;00m t\u001B[38;5;241m.\u001B[39mto(device, dtype \u001B[38;5;28;01mif\u001B[39;00m t\u001B[38;5;241m.\u001B[39mis_floating_point() \u001B[38;5;129;01mor\u001B[39;00m t\u001B[38;5;241m.\u001B[39mis_complex() \u001B[38;5;28;01melse\u001B[39;00m \u001B[38;5;28;01mNone\u001B[39;00m,\n\u001B[0;32m   1142\u001B[0m                 non_blocking, memory_format\u001B[38;5;241m=\u001B[39mconvert_to_format)\n\u001B[1;32m-> 1143\u001B[0m \u001B[38;5;28;01mreturn\u001B[39;00m \u001B[43mt\u001B[49m\u001B[38;5;241;43m.\u001B[39;49m\u001B[43mto\u001B[49m\u001B[43m(\u001B[49m\u001B[43mdevice\u001B[49m\u001B[43m,\u001B[49m\u001B[43m \u001B[49m\u001B[43mdtype\u001B[49m\u001B[43m \u001B[49m\u001B[38;5;28;43;01mif\u001B[39;49;00m\u001B[43m \u001B[49m\u001B[43mt\u001B[49m\u001B[38;5;241;43m.\u001B[39;49m\u001B[43mis_floating_point\u001B[49m\u001B[43m(\u001B[49m\u001B[43m)\u001B[49m\u001B[43m \u001B[49m\u001B[38;5;129;43;01mor\u001B[39;49;00m\u001B[43m \u001B[49m\u001B[43mt\u001B[49m\u001B[38;5;241;43m.\u001B[39;49m\u001B[43mis_complex\u001B[49m\u001B[43m(\u001B[49m\u001B[43m)\u001B[49m\u001B[43m \u001B[49m\u001B[38;5;28;43;01melse\u001B[39;49;00m\u001B[43m \u001B[49m\u001B[38;5;28;43;01mNone\u001B[39;49;00m\u001B[43m,\u001B[49m\u001B[43m \u001B[49m\u001B[43mnon_blocking\u001B[49m\u001B[43m)\u001B[49m\n",
      "\u001B[1;31mRuntimeError\u001B[0m: CUDA error: out of memory\nCUDA kernel errors might be asynchronously reported at some other API call, so the stacktrace below might be incorrect.\nFor debugging consider passing CUDA_LAUNCH_BLOCKING=1.\nCompile with `TORCH_USE_CUDA_DSA` to enable device-side assertions.\n"
     ]
    }
   ],
   "execution_count": 259
  },
  {
   "metadata": {},
   "cell_type": "markdown",
   "source": "# Evaluate",
   "id": "94392c07208de0c4"
  },
  {
   "metadata": {
    "ExecuteTime": {
     "end_time": "2025-05-18T16:31:50.835975Z",
     "start_time": "2025-05-18T16:31:50.823593Z"
    }
   },
   "cell_type": "code",
   "source": [
    "def evaluate(model, dataloader, criterion, device):\n",
    "    model.eval()\n",
    "    correct = 0\n",
    "    total = 0\n",
    "    losses = []\n",
    "\n",
    "    with torch.no_grad():\n",
    "        for image, question, labels in dataloader:\n",
    "            image = image.to(device)\n",
    "            question = question.to(device)\n",
    "            labels = labels.to(device)\n",
    "            outputs = model(image, question)\n",
    "            loss = criterion(outputs, labels)\n",
    "            losses.append(loss.item())\n",
    "\n",
    "            _, predicted = torch.max(outputs.data, 1)\n",
    "            total += labels.size(0)\n",
    "            correct += (predicted == labels).sum().item()\n",
    "\n",
    "    loss = sum(losses) / len(losses)\n",
    "    acc = correct / total\n",
    "\n",
    "    return loss, acc"
   ],
   "id": "e17a3be6d5de52d8",
   "outputs": [],
   "execution_count": 253
  },
  {
   "metadata": {},
   "cell_type": "markdown",
   "source": "# Training",
   "id": "b0a7163eba9cd7b2"
  },
  {
   "metadata": {
    "ExecuteTime": {
     "end_time": "2025-05-18T16:31:56.087888Z",
     "start_time": "2025-05-18T16:31:56.055976Z"
    }
   },
   "cell_type": "code",
   "source": [
    "def fit(\n",
    "            model,\n",
    "            train_loader,\n",
    "            val_loader,\n",
    "            criterion,\n",
    "            optimizer,\n",
    "            scheduler,\n",
    "            device,\n",
    "            epochs\n",
    "        ):\n",
    "            train_losses = []\n",
    "            val_losses = []\n",
    "            train_accs = []\n",
    "            val_accs = []\n",
    "\n",
    "            for epoch in range(epochs):\n",
    "                batch_train_losses = []\n",
    "\n",
    "                train_correct = 0\n",
    "                train_total = 0\n",
    "\n",
    "                model.train()\n",
    "                for idx, (images, questions, labels) in enumerate(train_loader):\n",
    "                    images = images.to(device)\n",
    "                    questions = questions.to(device)\n",
    "                    labels = labels.to(device)\n",
    "\n",
    "                    optimizer.zero_grad()\n",
    "                    outputs = model(images, questions)\n",
    "                    loss = criterion(outputs, labels)\n",
    "                    _, predicted = torch.max(outputs.data, 1)\n",
    "                    train_total += labels.size(0)\n",
    "                    train_correct += (predicted == labels).sum().item()\n",
    "                    loss.backward()\n",
    "                    optimizer.step()\n",
    "\n",
    "                    batch_train_losses.append(loss.item())\n",
    "\n",
    "                train_loss = sum(batch_train_losses) / len(batch_train_losses)\n",
    "                train_losses.append(train_loss)\n",
    "\n",
    "                train_acc = train_correct / train_total\n",
    "                train_accs.append(train_acc)\n",
    "\n",
    "                val_loss, val_acc = evaluate(\n",
    "                    model, val_loader,\n",
    "                    criterion,\n",
    "                    device\n",
    "                )\n",
    "                val_losses.append(val_loss)\n",
    "                val_accs.append(val_acc)\n",
    "\n",
    "                print(f'EPOCH {epoch + 1}:\\tTrain loss: {train_loss:.4f}\\tTrain acc: {train_acc:.4f}\\tVal loss: {val_loss:.4f}\\tVal acc: {val_acc:.4f}')\n",
    "                scheduler.step()\n",
    "\n",
    "            return train_losses, val_losses, train_accs, val_accs"
   ],
   "id": "4121b8575d1731ad",
   "outputs": [],
   "execution_count": 254
  },
  {
   "metadata": {
    "ExecuteTime": {
     "end_time": "2025-05-18T16:31:56.702691Z",
     "start_time": "2025-05-18T16:31:56.671692Z"
    }
   },
   "cell_type": "code",
   "source": [
    "lr = 1e-2\n",
    "epochs = 50\n",
    "\n",
    "scheduler_step_size = epochs * 0.6\n",
    "criterion = nn.CrossEntropyLoss()\n",
    "\n",
    "optimizer = torch.optim.Adam(\n",
    "    model.parameters(),\n",
    "    lr=lr\n",
    ")\n",
    "scheduler = torch.optim.lr_scheduler.StepLR(\n",
    "    optimizer,\n",
    "    step_size=scheduler_step_size,\n",
    "    gamma=0.1\n",
    ")"
   ],
   "id": "e48be45bf499823e",
   "outputs": [],
   "execution_count": 255
  },
  {
   "metadata": {
    "ExecuteTime": {
     "end_time": "2025-05-18T16:31:58.545760Z",
     "start_time": "2025-05-18T16:31:57.286055Z"
    }
   },
   "cell_type": "code",
   "source": [
    "train_losses, val_losses,train_accs , val_accs = fit(\n",
    "    model,\n",
    "    train_loader,\n",
    "    val_loader,\n",
    "    criterion,\n",
    "    optimizer,\n",
    "    scheduler,\n",
    "    device,\n",
    "    epochs\n",
    ")"
   ],
   "id": "433eb69b3e6c9ac9",
   "outputs": [
    {
     "ename": "RuntimeError",
     "evalue": "CUDA error: out of memory\nCUDA kernel errors might be asynchronously reported at some other API call, so the stacktrace below might be incorrect.\nFor debugging consider passing CUDA_LAUNCH_BLOCKING=1.\nCompile with `TORCH_USE_CUDA_DSA` to enable device-side assertions.\n",
     "output_type": "error",
     "traceback": [
      "\u001B[1;31m---------------------------------------------------------------------------\u001B[0m",
      "\u001B[1;31mRuntimeError\u001B[0m                              Traceback (most recent call last)",
      "Cell \u001B[1;32mIn[256], line 1\u001B[0m\n\u001B[1;32m----> 1\u001B[0m train_losses, val_losses,train_accs , val_accs \u001B[38;5;241m=\u001B[39m \u001B[43mfit\u001B[49m\u001B[43m(\u001B[49m\n\u001B[0;32m      2\u001B[0m \u001B[43m    \u001B[49m\u001B[43mmodel\u001B[49m\u001B[43m,\u001B[49m\n\u001B[0;32m      3\u001B[0m \u001B[43m    \u001B[49m\u001B[43mtrain_loader\u001B[49m\u001B[43m,\u001B[49m\n\u001B[0;32m      4\u001B[0m \u001B[43m    \u001B[49m\u001B[43mval_loader\u001B[49m\u001B[43m,\u001B[49m\n\u001B[0;32m      5\u001B[0m \u001B[43m    \u001B[49m\u001B[43mcriterion\u001B[49m\u001B[43m,\u001B[49m\n\u001B[0;32m      6\u001B[0m \u001B[43m    \u001B[49m\u001B[43moptimizer\u001B[49m\u001B[43m,\u001B[49m\n\u001B[0;32m      7\u001B[0m \u001B[43m    \u001B[49m\u001B[43mscheduler\u001B[49m\u001B[43m,\u001B[49m\n\u001B[0;32m      8\u001B[0m \u001B[43m    \u001B[49m\u001B[43mdevice\u001B[49m\u001B[43m,\u001B[49m\n\u001B[0;32m      9\u001B[0m \u001B[43m    \u001B[49m\u001B[43mepochs\u001B[49m\n\u001B[0;32m     10\u001B[0m \u001B[43m)\u001B[49m\n",
      "Cell \u001B[1;32mIn[254], line 24\u001B[0m, in \u001B[0;36mfit\u001B[1;34m(model, train_loader, val_loader, criterion, optimizer, scheduler, device, epochs)\u001B[0m\n\u001B[0;32m     22\u001B[0m model\u001B[38;5;241m.\u001B[39mtrain()\n\u001B[0;32m     23\u001B[0m \u001B[38;5;28;01mfor\u001B[39;00m idx, (images, questions, labels) \u001B[38;5;129;01min\u001B[39;00m \u001B[38;5;28menumerate\u001B[39m(train_loader):\n\u001B[1;32m---> 24\u001B[0m     images \u001B[38;5;241m=\u001B[39m \u001B[43mimages\u001B[49m\u001B[38;5;241;43m.\u001B[39;49m\u001B[43mto\u001B[49m\u001B[43m(\u001B[49m\u001B[43mdevice\u001B[49m\u001B[43m)\u001B[49m\n\u001B[0;32m     25\u001B[0m     questions \u001B[38;5;241m=\u001B[39m questions\u001B[38;5;241m.\u001B[39mto(device)\n\u001B[0;32m     26\u001B[0m     labels \u001B[38;5;241m=\u001B[39m labels\u001B[38;5;241m.\u001B[39mto(device)\n",
      "\u001B[1;31mRuntimeError\u001B[0m: CUDA error: out of memory\nCUDA kernel errors might be asynchronously reported at some other API call, so the stacktrace below might be incorrect.\nFor debugging consider passing CUDA_LAUNCH_BLOCKING=1.\nCompile with `TORCH_USE_CUDA_DSA` to enable device-side assertions.\n"
     ]
    }
   ],
   "execution_count": 256
  },
  {
   "metadata": {},
   "cell_type": "code",
   "outputs": [],
   "execution_count": null,
   "source": "",
   "id": "b6d3804b0b501f1b"
  }
 ],
 "metadata": {
  "kernelspec": {
   "display_name": "Python 3",
   "language": "python",
   "name": "python3"
  },
  "language_info": {
   "codemirror_mode": {
    "name": "ipython",
    "version": 2
   },
   "file_extension": ".py",
   "mimetype": "text/x-python",
   "name": "python",
   "nbconvert_exporter": "python",
   "pygments_lexer": "ipython2",
   "version": "2.7.6"
  }
 },
 "nbformat": 4,
 "nbformat_minor": 5
}
